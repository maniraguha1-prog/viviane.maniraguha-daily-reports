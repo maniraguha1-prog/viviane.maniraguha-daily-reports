{
 "cells": [
  {
   "cell_type": "markdown",
   "id": "e19a488b-5c4c-4073-ae38-1f8505427d8f",
   "metadata": {},
   "source": [
    "****\n",
    "\n",
    "# <center> <b> <span style=\"color:blue;\"> Python Programming First Assignment  </span> </b></center>\n",
    "\n",
    "### <center> <b> <span style=\"color:blue;\">Name: Viviane MANIRAGUHA  </span> </b></center>\n",
    "    "
   ]
  },
  {
   "cell_type": "markdown",
   "id": "64f87e17-741e-4cbd-a769-93e34b2c057f",
   "metadata": {},
   "source": [
    "## 1 Getting help in python"
   ]
  },
  {
   "cell_type": "code",
   "execution_count": 112,
   "id": "eb84efeb-9c5d-43e3-9048-2dcdcc81b9a8",
   "metadata": {},
   "outputs": [
    {
     "name": "stdout",
     "output_type": "stream",
     "text": [
      "Welcome to Python 3.13's help utility! If this is your first time using\n",
      "Python, you should definitely check out the tutorial at\n",
      "https://docs.python.org/3.13/tutorial/.\n",
      "\n",
      "Enter the name of any module, keyword, or topic to get help on writing\n",
      "Python programs and using Python modules.  To get a list of available\n",
      "modules, keywords, symbols, or topics, enter \"modules\", \"keywords\",\n",
      "\"symbols\", or \"topics\".\n",
      "\n",
      "Each module also comes with a one-line summary of what it does; to list\n",
      "the modules whose name or summary contain a given string such as \"spam\",\n",
      "enter \"modules spam\".\n",
      "\n",
      "To quit this help utility and return to the interpreter,\n",
      "enter \"q\", \"quit\" or \"exit\".\n",
      "\n"
     ]
    },
    {
     "name": "stdin",
     "output_type": "stream",
     "text": [
      "help>  modules\n"
     ]
    },
    {
     "name": "stdout",
     "output_type": "stream",
     "text": [
      "\n",
      "Please wait a moment while I gather a list of all available modules...\n",
      "\n"
     ]
    },
    {
     "name": "stderr",
     "output_type": "stream",
     "text": [
      "C:\\Users\\user\\anaconda3\\Lib\\site-packages\\nltk\\twitter\\__init__.py:20: UserWarning: The twython library has not been installed. Some functionality from the twitter package will not be available.\n",
      "  warnings.warn(\n",
      "C:\\Users\\user\\anaconda3\\Lib\\site-packages\\pydantic\\experimental\\__init__.py:7: PydanticExperimentalWarning:\n",
      "\n",
      "This module is experimental, its contents are subject to change and deprecation.\n",
      "\n",
      "C:\\Users\\user\\anaconda3\\Lib\\pkgutil.py:78: UserWarning:\n",
      "\n",
      "The superqt.qtcompat module is deprecated as of v0.3.0. Please import from `qtpy` instead.\n",
      "\n"
     ]
    },
    {
     "name": "stdout",
     "output_type": "stream",
     "text": [
      "3204bda914b7f2c6f497__mypyc cloudpickle         marshal             six\n",
      "IPython             cmath               math                skimage\n",
      "OpenSSL             cmd                 matplotlib          sklearn\n",
      "PIL                 code                matplotlib_inline   sklearn_compat\n",
      "PyQt5               codecs              mccabe              slugify\n",
      "__future__          codeop              mdit_py_plugins     smmap\n",
      "__hello__           collections         mdurl               smtplib\n",
      "__phello__          colorama            menuinst            sniffio\n",
      "_abc                colorcet            mimetypes           snowballstemmer\n",
      "_aix_support        colorsys            mistune             socket\n",
      "_android_support    comm                mkl                 socketserver\n",
      "_apple_support      commctrl            mkl_fft             socks\n",
      "_argon2_cffi_bindings compileall          mkl_random          sockshandler\n",
      "_ast                concurrent          mmap                sortedcontainers\n",
      "_asyncio            conda               mmapfile            soupsieve\n",
      "_bisect             conda_anaconda_telemetry mmsystem            sphinx\n",
      "_black_version      conda_anaconda_tos  modulefinder        spyder\n",
      "_blake2             conda_build         more_itertools      spyder_kernels\n",
      "_brotli             conda_content_trust mpmath              sqlalchemy\n",
      "_bz2                conda_env           msgpack             sqlite3\n",
      "_cffi_backend       conda_index         msvcrt              sre_compile\n",
      "_codecs             conda_libmamba_solver multidict           sre_constants\n",
      "_codecs_cn          conda_pack          multipledispatch    sre_parse\n",
      "_codecs_hk          conda_package_handling multiprocessing     ssl\n",
      "_codecs_iso2022     conda_package_streaming mypy                sspi\n",
      "_codecs_jp          conda_token         mypy_extensions     sspicon\n",
      "_codecs_kr          configparser        mypyc               stack_data\n",
      "_codecs_tw          constantly          nacl                start_pythonwin\n",
      "_collections        contextlib          narwhals            stat\n",
      "_collections_abc    contextvars         navigator_updater   statistics\n",
      "_colorize           contourpy           nbclient            statsmodels\n",
      "_compat_pickle      cookiecutter        nbconvert           streamlit\n",
      "_compression        copy                nbformat            string\n",
      "_contextvars        copyreg             nest_asyncio        stringprep\n",
      "_csv                cpuinfo             netbios             struct\n",
      "_ctypes             cryptography        netrc               subprocess\n",
      "_ctypes_test        cssselect           networkx            superqt\n",
      "_datetime           csv                 nltk                sympy\n",
      "_decimal            ctypes              notebook            symtable\n",
      "_distutils_hack     curl                notebook_shim       sys\n",
      "_elementtree        curses              nt                  sysconfig\n",
      "_functools          cwp                 ntpath              tables\n",
      "_hashlib            cycler              ntsecuritycon       tabnanny\n",
      "_heapq              cytoolz             nturl2path          tabulate\n",
      "_imp                dask                numba               tarfile\n",
      "_interpchannels     dask_expr           numbergen           tblib\n",
      "_interpqueues       dataclasses         numbers             tempfile\n",
      "_interpreters       datashader          numexpr             tenacity\n",
      "_io                 datetime            numpy               terminado\n",
      "_ios_support        dateutil            numpydoc            test\n",
      "_json               dbm                 odbc                test_pycosat\n",
      "_locale             dde                 opcode              text_unidecode\n",
      "_lsprof             debugpy             openpyxl            textdistance\n",
      "_lzma               decimal             operator            textwrap\n",
      "_markupbase         decorator           optparse            this\n",
      "_md5                defusedxml          ordered_set         threading\n",
      "_multibytecodec     deprecated          os                  threadpoolctl\n",
      "_multiprocessing    diff_match_patch    overrides           three_merge\n",
      "_nsis               difflib             packaging           tifffile\n",
      "_opcode             dill                pandas              time\n",
      "_opcode_metadata    dis                 pandocfilters       timeit\n",
      "_operator           distributed         panel               timer\n",
      "_osx_support        distro              param               tinycss2\n",
      "_overlapped         docstring_to_markdown parsel              tkinter\n",
      "_pickle             doctest             parso               tldextract\n",
      "_plotly_future_     docutils            partd               tlz\n",
      "_plotly_utils       dotenv              pathlib             token\n",
      "_py_abc             email               pathspec            tokenize\n",
      "_pydatetime         encodings           patsy               toml\n",
      "_pydecimal          ensurepip           pdb                 tomli\n",
      "_pyio               enum                perfmon             tomlkit\n",
      "_pylong             erfa                pexpect             tomllib\n",
      "_pyrepl             errno               pickle              toolz\n",
      "_pytest             et_xmlfile          pickleshare         tornado\n",
      "_queue              evalidate           pickletools         tqdm\n",
      "_random             executing           pip                 trace\n",
      "_ruamel_yaml        fastjsonschema      pkce                traceback\n",
      "_sha1               faulthandler        pkg_resources       tracemalloc\n",
      "_sha2               filecmp             pkginfo             traitlets\n",
      "_sha3               fileinput           pkgutil             truststore\n",
      "_signal             filelock            platform            tty\n",
      "_sitebuiltins       flake8              platformdirs        turtle\n",
      "_socket             flask               plistlib            turtledemo\n",
      "_sqlite3            fnmatch             plotly              twisted\n",
      "_sre                fontTools           pluggy              typeguard\n",
      "_ssl                fractions           ply                 typer\n",
      "_stat               frozendict          poplib              types\n",
      "_statistics         frozenlist          posixpath           typing\n",
      "_string             fsspec              poyo                typing_extensions\n",
      "_strptime           ftplib              pprint              tzdata\n",
      "_struct             functools           profile             uc_micro\n",
      "_suggestions        gc                  prometheus_client   ujson\n",
      "_symtable           genericpath         prompt_toolkit      unicodedata\n",
      "_sysconfig          getopt              propcache           unidecode\n",
      "_system_path        getpass             protego             unittest\n",
      "_testbuffer         gettext             pstats              urllib\n",
      "_testcapi           git                 psutil              urllib3\n",
      "_testclinic         gitdb               pty                 uuid\n",
      "_testclinic_limited github              ptyprocess          venv\n",
      "_testconsole        glob                pure_eval           w3lib\n",
      "_testimportmultiple gmpy2               py                  warnings\n",
      "_testinternalcapi   graphlib            py_compile          watchdog\n",
      "_testlimitedcapi    greenlet            pyarrow             wave\n",
      "_testmultiphase     gzip                pyasn1              wcwidth\n",
      "_testsinglephase    h11                 pyasn1_modules      weakref\n",
      "_thread             h5py                pyclbr              webbrowser\n",
      "_threading_local    hashlib             pycodestyle         webencodings\n",
      "_tkinter            heapdict            pycosat             websocket\n",
      "_tokenize           heapq               pycparser           werkzeug\n",
      "_tracemalloc        hmac                pyct                whatthepatch\n",
      "_typing             holoviews           pycurl              wheel\n",
      "_uuid               html                pydantic            widgetsnbextension\n",
      "_warnings           http                pydantic_core       win2kras\n",
      "_weakref            httpcore            pydantic_settings   win32api\n",
      "_weakrefset         httpx               pydispatch          win32clipboard\n",
      "_win32sysloader     hvplot              pydoc               win32com\n",
      "_win32verstamp_pywin32ctypes hyperlink           pydoc_data          win32con\n",
      "_winapi             idlelib             pydocstyle          win32console\n",
      "_winxptheme         idna                pyexpat             win32cred\n",
      "_wmi                imageio             pyflakes            win32crypt\n",
      "_yaml               imagesize           pygments            win32cryptcon\n",
      "_zoneinfo           imaplib             pylab               win32ctypes\n",
      "abc                 imblearn            pylint              win32event\n",
      "adodbapi            importlib           pylint_venv         win32evtlog\n",
      "afxres              importlib_metadata  pyls_spyder         win32evtlogutil\n",
      "aiobotocore         importlib_resources pylsp               win32file\n",
      "aiohappyeyeballs    incremental         pylsp_black         win32gui\n",
      "aiohttp             inflect             pylsp_jsonrpc       win32gui_struct\n",
      "aioitertools        inflection          pyodbc              win32help\n",
      "aiosignal           iniconfig           pyparsing           win32inet\n",
      "alabaster           inspect             pytest              win32inetcon\n",
      "altair              intake              pythoncom           win32job\n",
      "anaconda_anon_usage intervaltree        pythonjsonlogger    win32lz\n",
      "anaconda_auth       io                  pytoolconfig        win32net\n",
      "anaconda_catalogs   ipaddress           pytz                win32netcon\n",
      "anaconda_cli_base   ipykernel           pyuca               win32pdh\n",
      "anaconda_cloud_auth ipykernel_launcher  pyviz_comms         win32pdhquery\n",
      "anaconda_navigator  ipywidgets          pywin               win32pdhutil\n",
      "anaconda_project    isapi               pywin32_bootstrap   win32pipe\n",
      "annotated_types     isort               pywin32_testutil    win32print\n",
      "antigravity         isympy              pywintypes          win32process\n",
      "anyio               itemadapter         pywt                win32profile\n",
      "appdirs             itemloaders         qdarkstyle          win32ras\n",
      "archspec            itertools           qstylizer           win32rcparser\n",
      "argon2              itsdangerous        qtawesome           win32security\n",
      "argparse            jedi                qtconsole           win32service\n",
      "array               jellyfish           qtpy                win32serviceutil\n",
      "arrow               jinja2              queue               win32timezone\n",
      "ast                 jinja2_time         queuelib            win32trace\n",
      "astroid             jmespath            quopri              win32traceutil\n",
      "astropy             joblib              random              win32transaction\n",
      "astropy_iers_data   json                rasutil             win32ts\n",
      "asttokens           json5               re                  win32ui\n",
      "async_lru           jsonpatch           readchar            win32uiole\n",
      "asyncio             jsonpointer         referencing         win32verstamp\n",
      "asyncssh            jsonschema          regcheck            win32wnet\n",
      "atexit              jsonschema_specifications regex               win_inet_pton\n",
      "atomicwrites        jupyter             regutil             winerror\n",
      "attr                jupyter_client      repo_cli            winioctlcon\n",
      "attrs               jupyter_console     reprlib             winnt\n",
      "autocommand         jupyter_core        requests            winperf\n",
      "automat             jupyter_events      requests_file       winpty\n",
      "autopep8            jupyter_lsp         requests_toolbelt   winreg\n",
      "babel               jupyter_server      rfc3339_validator   winsound\n",
      "backports           jupyter_server_terminals rfc3986_validator   winxpgui\n",
      "base64              jupyterlab          rich                winxptheme\n",
      "bcrypt              jupyterlab_plotly   rlcompleter         wrapt\n",
      "bdb                 jupyterlab_pygments roman_numerals      wsgiref\n",
      "binaryornot         jupyterlab_server   rope                xarray\n",
      "binascii            jupyterlab_widgets  rpds                xlwings\n",
      "binstar_client      jwt                 rtree               xlwingsjs\n",
      "bisect              keyring             ruamel_yaml         xml\n",
      "black               keyword             runpy               xmlrpc\n",
      "blackd              kiwisolver          s3fs                xxlimited\n",
      "bleach              lazy_loader         sched               xxlimited_35\n",
      "blib2to3            lckr_jupyterlab_variableinspector scipy               xxsubtype\n",
      "blinker             libarchive          scrapy              xyzservices\n",
      "bokeh               libmambapy          seaborn             yaml\n",
      "boltons             lief                secrets             yapf\n",
      "botocore            linecache           select              yapf_third_party\n",
      "bottleneck          linkify_it          selectors           yapftests\n",
      "brotli              llvmlite            semver              yarl\n",
      "bs4                 lmdb                send2trash          zict\n",
      "builtins            locale              service_identity    zipapp\n",
      "bz2                 locket              servicemanager      zipfile\n",
      "cProfile            logging             setuptools          zipimport\n",
      "cachetools          lxml                shellingham         zipp\n",
      "calendar            lz4                 shelve              zlib\n",
      "certifi             lzma                shlex               zmq\n",
      "cffi                mailbox             shutil              zoneinfo\n",
      "chardet             markdown            signal              zope\n",
      "charset_normalizer  markdown_it         sipbuild            zstandard\n",
      "click               markupsafe          site                \n",
      "\n",
      "Enter any module name to get more help.  Or, type \"modules spam\" to search\n",
      "for modules whose name or summary contain the string \"spam\".\n",
      "\n"
     ]
    },
    {
     "name": "stdin",
     "output_type": "stream",
     "text": [
      "help>  quit\n"
     ]
    },
    {
     "name": "stdout",
     "output_type": "stream",
     "text": [
      "\n",
      "You are now leaving help and returning to the Python interpreter.\n",
      "If you want to ask for help on a particular object directly from the\n",
      "interpreter, you can type \"help(object)\".  Executing \"help('string')\"\n",
      "has the same effect as typing a particular string at the help> prompt.\n"
     ]
    }
   ],
   "source": [
    "help()\n"
   ]
  },
  {
   "cell_type": "code",
   "execution_count": 118,
   "id": "6fdea60f-d8b5-4a0d-acd0-db12f381ef2f",
   "metadata": {},
   "outputs": [
    {
     "name": "stdout",
     "output_type": "stream",
     "text": [
      "Help on built-in function print in module builtins:\n",
      "\n",
      "print(*args, sep=' ', end='\\n', file=None, flush=False)\n",
      "    Prints the values to a stream, or to sys.stdout by default.\n",
      "\n",
      "    sep\n",
      "      string inserted between values, default a space.\n",
      "    end\n",
      "      string appended after the last value, default a newline.\n",
      "    file\n",
      "      a file-like object (stream); defaults to the current sys.stdout.\n",
      "    flush\n",
      "      whether to forcibly flush the stream.\n",
      "\n"
     ]
    }
   ],
   "source": [
    "help(print) "
   ]
  },
  {
   "cell_type": "markdown",
   "id": "bee42aec-16a8-44f8-a312-976bf7140421",
   "metadata": {},
   "source": [
    "## 2 Doing calculation the python way"
   ]
  },
  {
   "cell_type": "markdown",
   "id": "d927731b-7adb-46bb-8734-d148e612fb61",
   "metadata": {},
   "source": [
    "1. given:\n",
    "width = 17          \n",
    "height = 12.0       \n",
    "delimiter = '.'    \n"
   ]
  },
  {
   "cell_type": "markdown",
   "id": "7af0d350-4c9b-4637-bda4-9b1dcd532e5e",
   "metadata": {},
   "source": [
    "a) width/2"
   ]
  },
  {
   "cell_type": "code",
   "execution_count": 119,
   "id": "95782bba-9d25-4737-a781-934f1ea2d25d",
   "metadata": {},
   "outputs": [
    {
     "name": "stdout",
     "output_type": "stream",
     "text": [
      "value 8.5\n",
      "type <class 'float'>\n"
     ]
    }
   ],
   "source": [
    "width = 17 / 2\n",
    "print(\"value\",width)\n",
    "print(\"type\",type(width))\n"
   ]
  },
  {
   "cell_type": "markdown",
   "id": "1166e095-c59d-40f7-ae82-82e6e0cd8af1",
   "metadata": {},
   "source": [
    "b) width/2.0"
   ]
  },
  {
   "cell_type": "code",
   "execution_count": 120,
   "id": "8678dfbf-34a7-4924-8b31-209c81861d34",
   "metadata": {},
   "outputs": [
    {
     "name": "stdout",
     "output_type": "stream",
     "text": [
      "value 8.5\n",
      "type <class 'float'>\n"
     ]
    }
   ],
   "source": [
    "value = 17 / 2.0 \n",
    "print(\"value\",value)\n",
    "print(\"type\",type(value))\n",
    "\n",
    " "
   ]
  },
  {
   "cell_type": "markdown",
   "id": "7f4f8410-7bb3-461a-9149-4f5575411075",
   "metadata": {},
   "source": [
    "c) Height/3"
   ]
  },
  {
   "cell_type": "code",
   "execution_count": 121,
   "id": "7e1e623c-7967-4ea9-9739-cb49fe1fb53d",
   "metadata": {},
   "outputs": [
    {
     "name": "stdout",
     "output_type": "stream",
     "text": [
      "value 4.0\n",
      "type <class 'float'>\n"
     ]
    }
   ],
   "source": [
    "height = 12.0 / 3 \n",
    "print(\"value\",height)\n",
    "print(\"type\",type(height))\n"
   ]
  },
  {
   "cell_type": "markdown",
   "id": "31e983c9-8f18-4745-a756-f4da95298c5a",
   "metadata": {},
   "source": [
    "d) 1 + 2 * 5"
   ]
  },
  {
   "cell_type": "code",
   "execution_count": 122,
   "id": "cb18cc61-4996-4921-85ea-8236144c3888",
   "metadata": {},
   "outputs": [
    {
     "name": "stdout",
     "output_type": "stream",
     "text": [
      "value 11\n",
      "type <class 'int'>\n"
     ]
    }
   ],
   "source": [
    "mult_and_add = 1 + 2 * 5\n",
    "print(\"value\",mult_and_add)\n",
    "print(\"type\",type(mult_and_add))\n"
   ]
  },
  {
   "cell_type": "markdown",
   "id": "d125fcf2-cb98-424b-a4a0-adedd0c4fd2d",
   "metadata": {},
   "source": [
    "e) delimiter * 5"
   ]
  },
  {
   "cell_type": "code",
   "execution_count": 123,
   "id": "40286623-b50e-4221-876d-93af58d68fa6",
   "metadata": {},
   "outputs": [
    {
     "name": "stdout",
     "output_type": "stream",
     "text": [
      "value .....\n",
      "type <class 'str'>\n"
     ]
    }
   ],
   "source": [
    "delimiter = '.'\n",
    "delimiter= delimiter * 5\n",
    "print(\"value\",delimiter)\n",
    "print(\"type\",type(delimiter))\n"
   ]
  },
  {
   "cell_type": "markdown",
   "id": "86584db4-2c60-4949-8ef1-d1c0c8b1d0bc",
   "metadata": {},
   "source": [
    "2. Calculate the volume of the sphere with radius 5.\n"
   ]
  },
  {
   "cell_type": "code",
   "execution_count": 124,
   "id": "f212a038-8351-48e8-b7b7-8a89bbacb30c",
   "metadata": {},
   "outputs": [
    {
     "name": "stdout",
     "output_type": "stream",
     "text": [
      "Volume of the sphere: 523.5987755982989\n"
     ]
    }
   ],
   "source": [
    "radius = 5\n",
    "volume = (4/3) * math.pi * (radius ** 3)\n",
    "\n",
    "print(\"Volume of the sphere:\", volume)\n"
   ]
  },
  {
   "cell_type": "markdown",
   "id": "f89018d0-56e5-44a8-ae23-cb7b056a0191",
   "metadata": {},
   "source": [
    "# 3 Knowing more about data types and their operations"
   ]
  },
  {
   "cell_type": "markdown",
   "id": "78a79268-ce97-43fe-ae46-a71b5b3497e9",
   "metadata": {},
   "source": [
    "1. Confirming the types of these variables"
   ]
  },
  {
   "cell_type": "code",
   "execution_count": 125,
   "id": "fad0911e-53e0-4685-8f98-0f8f271a1492",
   "metadata": {},
   "outputs": [
    {
     "name": "stdout",
     "output_type": "stream",
     "text": [
      "<class 'int'>\n",
      "<class 'float'>\n",
      "<class 'str'>\n"
     ]
    }
   ],
   "source": [
    "a = 1           \n",
    "b = 5.0         \n",
    "c = \"ten\"      \n",
    "print(type(a)) \n",
    "print(type(b))  \n",
    "print(type(c)) \n"
   ]
  },
  {
   "cell_type": "markdown",
   "id": "968466ed-ede9-4061-bfbd-0c79a07bd5e5",
   "metadata": {},
   "source": [
    "2. To test which pairs of types (int, float, str) can be added with + without errors, and which will cause errors?"
   ]
  },
  {
   "cell_type": "code",
   "execution_count": 126,
   "id": "f150ba2b-fdf5-4c64-9622-5167b396fc03",
   "metadata": {},
   "outputs": [
    {
     "name": "stdout",
     "output_type": "stream",
     "text": [
      "int + int: 2\n",
      "int + float: 6.0\n",
      "float + float: 10.0\n",
      "str + str: tenten\n"
     ]
    },
    {
     "ename": "TypeError",
     "evalue": "unsupported operand type(s) for +: 'float' and 'str'",
     "output_type": "error",
     "traceback": [
      "\u001b[1;31m---------------------------------------------------------------------------\u001b[0m",
      "\u001b[1;31mTypeError\u001b[0m                                 Traceback (most recent call last)",
      "Cell \u001b[1;32mIn[126], line 18\u001b[0m\n\u001b[0;32m     15\u001b[0m \u001b[38;5;28mprint\u001b[39m(\u001b[38;5;124m\"\u001b[39m\u001b[38;5;124mstr + str:\u001b[39m\u001b[38;5;124m\"\u001b[39m, str_val \u001b[38;5;241m+\u001b[39m str_val)\n\u001b[0;32m     17\u001b[0m \u001b[38;5;66;03m# (iv) float + str\u001b[39;00m\n\u001b[1;32m---> 18\u001b[0m \u001b[38;5;28mprint\u001b[39m(\u001b[38;5;124m\"\u001b[39m\u001b[38;5;124mfloat + str:\u001b[39m\u001b[38;5;124m\"\u001b[39m, \u001b[43mfloat_val\u001b[49m\u001b[43m \u001b[49m\u001b[38;5;241;43m+\u001b[39;49m\u001b[43m \u001b[49m\u001b[43mstr_val\u001b[49m)  \n",
      "\u001b[1;31mTypeError\u001b[0m: unsupported operand type(s) for +: 'float' and 'str'"
     ]
    }
   ],
   "source": [
    "int_val = 1\n",
    "float_val = 5.0\n",
    "str_val = \"ten\"\n",
    "\n",
    "# (i) int + int\n",
    "print(\"int + int:\", int_val + int_val)\n",
    "\n",
    "# (ii) int + float\n",
    "print(\"int + float:\", int_val + float_val)\n",
    "\n",
    "# (iii) float + float\n",
    "print(\"float + float:\", float_val + float_val)\n",
    "\n",
    "# (v) str + str\n",
    "print(\"str + str:\", str_val + str_val)\n",
    "\n",
    "# (iv) float + str\n",
    "print(\"float + str:\", float_val + str_val)  "
   ]
  },
  {
   "cell_type": "markdown",
   "id": "8f3be368-a6a1-475a-bdb9-8f70f6f800f9",
   "metadata": {},
   "source": [
    "There is a suprise about adding (float + str) it gives an error."
   ]
  },
  {
   "cell_type": "markdown",
   "id": "303ef787-96bb-4a09-8237-a54c1e6df6cf",
   "metadata": {},
   "source": [
    "3. same to the operators = ['+', '*', '-', '/', '%', '<', '>', '>=', '<=', '=='] "
   ]
  },
  {
   "cell_type": "code",
   "execution_count": 127,
   "id": "88d22ecb-2552-4b94-81a5-054cd0f6a136",
   "metadata": {},
   "outputs": [
    {
     "name": "stdout",
     "output_type": "stream",
     "text": [
      "int + int: 2\n",
      "int + float: 6.0\n",
      "float + float: 10.0\n",
      "str + str: tenten\n"
     ]
    },
    {
     "ename": "TypeError",
     "evalue": "unsupported operand type(s) for +: 'float' and 'str'",
     "output_type": "error",
     "traceback": [
      "\u001b[1;31m---------------------------------------------------------------------------\u001b[0m",
      "\u001b[1;31mTypeError\u001b[0m                                 Traceback (most recent call last)",
      "Cell \u001b[1;32mIn[127], line 13\u001b[0m\n\u001b[0;32m     11\u001b[0m \u001b[38;5;28mprint\u001b[39m(\u001b[38;5;124m\"\u001b[39m\u001b[38;5;124mfloat + float:\u001b[39m\u001b[38;5;124m\"\u001b[39m, float_val \u001b[38;5;241m+\u001b[39m float_val)\n\u001b[0;32m     12\u001b[0m \u001b[38;5;28mprint\u001b[39m(\u001b[38;5;124m\"\u001b[39m\u001b[38;5;124mstr + str:\u001b[39m\u001b[38;5;124m\"\u001b[39m, str_val \u001b[38;5;241m+\u001b[39m str_val)\n\u001b[1;32m---> 13\u001b[0m \u001b[38;5;28mprint\u001b[39m(\u001b[38;5;124m\"\u001b[39m\u001b[38;5;124mfloat + str:\u001b[39m\u001b[38;5;124m\"\u001b[39m, \u001b[43mfloat_val\u001b[49m\u001b[43m \u001b[49m\u001b[38;5;241;43m+\u001b[39;49m\u001b[43m \u001b[49m\u001b[43mstr_val\u001b[49m) \n\u001b[0;32m     14\u001b[0m \u001b[38;5;28mprint\u001b[39m(\u001b[38;5;124m\"\u001b[39m\u001b[38;5;130;01m\\n\u001b[39;00m\u001b[38;5;124m---\u001b[39m\u001b[38;5;124m\"\u001b[39m)\n",
      "\u001b[1;31mTypeError\u001b[0m: unsupported operand type(s) for +: 'float' and 'str'"
     ]
    }
   ],
   "source": [
    "operators = ['+', '*', '-', '/', '%', '<', '>', '>=', '<=', '==']\n",
    "\n",
    "\n",
    "int_val = 1\n",
    "float_val = 5.0\n",
    "str_val = \"ten\"\n",
    "\n",
    "# Addition (+)\n",
    "print(\"int + int:\", int_val + int_val)\n",
    "print(\"int + float:\", int_val + float_val)\n",
    "print(\"float + float:\", float_val + float_val)\n",
    "print(\"str + str:\", str_val + str_val)\n",
    "print(\"float + str:\", float_val + str_val) \n",
    "print(\"\\n---\")"
   ]
  },
  {
   "cell_type": "code",
   "execution_count": 128,
   "id": "30faf144-6d55-40a2-a549-21b623137b06",
   "metadata": {},
   "outputs": [
    {
     "name": "stdout",
     "output_type": "stream",
     "text": [
      "int * int: 1\n",
      "int * float: 5.0\n",
      "float * float: 25.0\n",
      "int * str: ten\n"
     ]
    },
    {
     "ename": "TypeError",
     "evalue": "can't multiply sequence by non-int of type 'float'",
     "output_type": "error",
     "traceback": [
      "\u001b[1;31m---------------------------------------------------------------------------\u001b[0m",
      "\u001b[1;31mTypeError\u001b[0m                                 Traceback (most recent call last)",
      "Cell \u001b[1;32mIn[128], line 6\u001b[0m\n\u001b[0;32m      4\u001b[0m \u001b[38;5;28mprint\u001b[39m(\u001b[38;5;124m\"\u001b[39m\u001b[38;5;124mfloat * float:\u001b[39m\u001b[38;5;124m\"\u001b[39m, float_val \u001b[38;5;241m*\u001b[39m float_val)\n\u001b[0;32m      5\u001b[0m \u001b[38;5;28mprint\u001b[39m(\u001b[38;5;124m\"\u001b[39m\u001b[38;5;124mint * str:\u001b[39m\u001b[38;5;124m\"\u001b[39m, int_val \u001b[38;5;241m*\u001b[39m str_val)\n\u001b[1;32m----> 6\u001b[0m \u001b[38;5;28mprint\u001b[39m(\u001b[38;5;124m\"\u001b[39m\u001b[38;5;124mfloat * str:\u001b[39m\u001b[38;5;124m\"\u001b[39m, \u001b[43mfloat_val\u001b[49m\u001b[43m \u001b[49m\u001b[38;5;241;43m*\u001b[39;49m\u001b[43m \u001b[49m\u001b[43mstr_val\u001b[49m) \n\u001b[0;32m      7\u001b[0m \u001b[38;5;28mprint\u001b[39m(\u001b[38;5;124m\"\u001b[39m\u001b[38;5;124mstr * str:\u001b[39m\u001b[38;5;124m\"\u001b[39m, str_val \u001b[38;5;241m*\u001b[39m str_val)  \n\u001b[0;32m      9\u001b[0m \u001b[38;5;28mprint\u001b[39m(\u001b[38;5;124m\"\u001b[39m\u001b[38;5;130;01m\\n\u001b[39;00m\u001b[38;5;124m---\u001b[39m\u001b[38;5;124m\"\u001b[39m)\n",
      "\u001b[1;31mTypeError\u001b[0m: can't multiply sequence by non-int of type 'float'"
     ]
    }
   ],
   "source": [
    "# Multiplication (*)\n",
    "print(\"int * int:\", int_val * int_val)\n",
    "print(\"int * float:\", int_val * float_val)\n",
    "print(\"float * float:\", float_val * float_val)\n",
    "print(\"int * str:\", int_val * str_val)\n",
    "print(\"float * str:\", float_val * str_val) \n",
    "print(\"str * str:\", str_val * str_val)  \n",
    "\n",
    "print(\"\\n---\")\n"
   ]
  },
  {
   "cell_type": "code",
   "execution_count": 129,
   "id": "4fe6619a-6fdd-413c-8795-077c87174ade",
   "metadata": {},
   "outputs": [
    {
     "name": "stdout",
     "output_type": "stream",
     "text": [
      "int - int: 0\n",
      "int - float: -4.0\n",
      "float - float: 0.0\n"
     ]
    },
    {
     "ename": "TypeError",
     "evalue": "unsupported operand type(s) for -: 'float' and 'str'",
     "output_type": "error",
     "traceback": [
      "\u001b[1;31m---------------------------------------------------------------------------\u001b[0m",
      "\u001b[1;31mTypeError\u001b[0m                                 Traceback (most recent call last)",
      "Cell \u001b[1;32mIn[129], line 5\u001b[0m\n\u001b[0;32m      3\u001b[0m \u001b[38;5;28mprint\u001b[39m(\u001b[38;5;124m\"\u001b[39m\u001b[38;5;124mint - float:\u001b[39m\u001b[38;5;124m\"\u001b[39m, int_val \u001b[38;5;241m-\u001b[39m float_val)\n\u001b[0;32m      4\u001b[0m \u001b[38;5;28mprint\u001b[39m(\u001b[38;5;124m\"\u001b[39m\u001b[38;5;124mfloat - float:\u001b[39m\u001b[38;5;124m\"\u001b[39m, float_val \u001b[38;5;241m-\u001b[39m float_val)\n\u001b[1;32m----> 5\u001b[0m \u001b[38;5;28mprint\u001b[39m(\u001b[38;5;124m\"\u001b[39m\u001b[38;5;124mfloat - str:\u001b[39m\u001b[38;5;124m\"\u001b[39m, \u001b[43mfloat_val\u001b[49m\u001b[43m \u001b[49m\u001b[38;5;241;43m-\u001b[39;49m\u001b[43m \u001b[49m\u001b[43mstr_val\u001b[49m)  \n\u001b[0;32m      6\u001b[0m \u001b[38;5;28mprint\u001b[39m(\u001b[38;5;124m\"\u001b[39m\u001b[38;5;124mstr - str:\u001b[39m\u001b[38;5;124m\"\u001b[39m, str_val \u001b[38;5;241m-\u001b[39m str_val)  \n\u001b[0;32m      8\u001b[0m \u001b[38;5;28mprint\u001b[39m(\u001b[38;5;124m\"\u001b[39m\u001b[38;5;130;01m\\n\u001b[39;00m\u001b[38;5;124m---\u001b[39m\u001b[38;5;124m\"\u001b[39m)\n",
      "\u001b[1;31mTypeError\u001b[0m: unsupported operand type(s) for -: 'float' and 'str'"
     ]
    }
   ],
   "source": [
    "# Subtraction (-)\n",
    "print(\"int - int:\", int_val - int_val)\n",
    "print(\"int - float:\", int_val - float_val)\n",
    "print(\"float - float:\", float_val - float_val)\n",
    "print(\"float - str:\", float_val - str_val)  \n",
    "print(\"str - str:\", str_val - str_val)  \n",
    "\n",
    "print(\"\\n---\")"
   ]
  },
  {
   "cell_type": "code",
   "execution_count": 130,
   "id": "370be6cf-73a1-43ab-95ed-fd9f5442f35b",
   "metadata": {},
   "outputs": [
    {
     "name": "stdout",
     "output_type": "stream",
     "text": [
      "int / int: 1.0\n",
      "int / float: 0.2\n",
      "float / float: 1.0\n"
     ]
    },
    {
     "ename": "TypeError",
     "evalue": "unsupported operand type(s) for /: 'float' and 'str'",
     "output_type": "error",
     "traceback": [
      "\u001b[1;31m---------------------------------------------------------------------------\u001b[0m",
      "\u001b[1;31mTypeError\u001b[0m                                 Traceback (most recent call last)",
      "Cell \u001b[1;32mIn[130], line 5\u001b[0m\n\u001b[0;32m      3\u001b[0m \u001b[38;5;28mprint\u001b[39m(\u001b[38;5;124m\"\u001b[39m\u001b[38;5;124mint / float:\u001b[39m\u001b[38;5;124m\"\u001b[39m, int_val \u001b[38;5;241m/\u001b[39m float_val)\n\u001b[0;32m      4\u001b[0m \u001b[38;5;28mprint\u001b[39m(\u001b[38;5;124m\"\u001b[39m\u001b[38;5;124mfloat / float:\u001b[39m\u001b[38;5;124m\"\u001b[39m, float_val \u001b[38;5;241m/\u001b[39m float_val)\n\u001b[1;32m----> 5\u001b[0m \u001b[38;5;28mprint\u001b[39m(\u001b[38;5;124m\"\u001b[39m\u001b[38;5;124mfloat / str:\u001b[39m\u001b[38;5;124m\"\u001b[39m, \u001b[43mfloat_val\u001b[49m\u001b[43m \u001b[49m\u001b[38;5;241;43m/\u001b[39;49m\u001b[43m \u001b[49m\u001b[43mstr_val\u001b[49m)  \n\u001b[0;32m      6\u001b[0m \u001b[38;5;28mprint\u001b[39m(\u001b[38;5;124m\"\u001b[39m\u001b[38;5;124mstr / str:\u001b[39m\u001b[38;5;124m\"\u001b[39m, str_val \u001b[38;5;241m/\u001b[39m str_val) \n\u001b[0;32m      8\u001b[0m \u001b[38;5;28mprint\u001b[39m(\u001b[38;5;124m\"\u001b[39m\u001b[38;5;130;01m\\n\u001b[39;00m\u001b[38;5;124m---\u001b[39m\u001b[38;5;124m\"\u001b[39m)\n",
      "\u001b[1;31mTypeError\u001b[0m: unsupported operand type(s) for /: 'float' and 'str'"
     ]
    }
   ],
   "source": [
    "# Division (/)\n",
    "print(\"int / int:\", int_val / int_val)\n",
    "print(\"int / float:\", int_val / float_val)\n",
    "print(\"float / float:\", float_val / float_val)\n",
    "print(\"float / str:\", float_val / str_val)  \n",
    "print(\"str / str:\", str_val / str_val) \n",
    "\n",
    "print(\"\\n---\")"
   ]
  },
  {
   "cell_type": "code",
   "execution_count": 131,
   "id": "12debddb-c337-4451-bfaf-43e10cc9369e",
   "metadata": {},
   "outputs": [
    {
     "name": "stdout",
     "output_type": "stream",
     "text": [
      "int % int: 0\n",
      "int % float: 1.0\n"
     ]
    },
    {
     "ename": "TypeError",
     "evalue": "unsupported operand type(s) for %: 'float' and 'str'",
     "output_type": "error",
     "traceback": [
      "\u001b[1;31m---------------------------------------------------------------------------\u001b[0m",
      "\u001b[1;31mTypeError\u001b[0m                                 Traceback (most recent call last)",
      "Cell \u001b[1;32mIn[131], line 4\u001b[0m\n\u001b[0;32m      2\u001b[0m \u001b[38;5;28mprint\u001b[39m(\u001b[38;5;124m\"\u001b[39m\u001b[38;5;124mint \u001b[39m\u001b[38;5;132;01m% i\u001b[39;00m\u001b[38;5;124mnt:\u001b[39m\u001b[38;5;124m\"\u001b[39m, int_val \u001b[38;5;241m%\u001b[39m int_val)  \n\u001b[0;32m      3\u001b[0m \u001b[38;5;28mprint\u001b[39m(\u001b[38;5;124m\"\u001b[39m\u001b[38;5;124mint \u001b[39m\u001b[38;5;132;01m% f\u001b[39;00m\u001b[38;5;124mloat:\u001b[39m\u001b[38;5;124m\"\u001b[39m, int_val \u001b[38;5;241m%\u001b[39m float_val)\n\u001b[1;32m----> 4\u001b[0m \u001b[38;5;28mprint\u001b[39m(\u001b[38;5;124m\"\u001b[39m\u001b[38;5;124mfloat \u001b[39m\u001b[38;5;132;01m% s\u001b[39;00m\u001b[38;5;124mtr:\u001b[39m\u001b[38;5;124m\"\u001b[39m, \u001b[43mfloat_val\u001b[49m\u001b[43m \u001b[49m\u001b[38;5;241;43m%\u001b[39;49m\u001b[43m \u001b[49m\u001b[43mstr_val\u001b[49m)  \n\u001b[0;32m      5\u001b[0m \u001b[38;5;28mprint\u001b[39m(\u001b[38;5;124m\"\u001b[39m\u001b[38;5;124mstr \u001b[39m\u001b[38;5;132;01m% s\u001b[39;00m\u001b[38;5;124mtr:\u001b[39m\u001b[38;5;124m\"\u001b[39m, str_val \u001b[38;5;241m%\u001b[39m str_val)  \n\u001b[0;32m      7\u001b[0m \u001b[38;5;28mprint\u001b[39m(\u001b[38;5;124m\"\u001b[39m\u001b[38;5;130;01m\\n\u001b[39;00m\u001b[38;5;124m---\u001b[39m\u001b[38;5;124m\"\u001b[39m)\n",
      "\u001b[1;31mTypeError\u001b[0m: unsupported operand type(s) for %: 'float' and 'str'"
     ]
    }
   ],
   "source": [
    "# Modulus (%)\n",
    "print(\"int % int:\", int_val % int_val)  \n",
    "print(\"int % float:\", int_val % float_val)\n",
    "print(\"float % str:\", float_val % str_val)  \n",
    "print(\"str % str:\", str_val % str_val)  \n",
    "\n",
    "print(\"\\n---\")"
   ]
  },
  {
   "cell_type": "code",
   "execution_count": 151,
   "id": "d18166c1-20f9-4fc3-a586-604903dfaae7",
   "metadata": {},
   "outputs": [
    {
     "name": "stdout",
     "output_type": "stream",
     "text": [
      "int < int: False\n",
      "int < float: True\n",
      "float < float: False\n",
      "str < str: False\n"
     ]
    },
    {
     "ename": "TypeError",
     "evalue": "'<' not supported between instances of 'float' and 'str'",
     "output_type": "error",
     "traceback": [
      "\u001b[1;31m---------------------------------------------------------------------------\u001b[0m",
      "\u001b[1;31mTypeError\u001b[0m                                 Traceback (most recent call last)",
      "Cell \u001b[1;32mIn[151], line 6\u001b[0m\n\u001b[0;32m      4\u001b[0m \u001b[38;5;28mprint\u001b[39m(\u001b[38;5;124m\"\u001b[39m\u001b[38;5;124mfloat < float:\u001b[39m\u001b[38;5;124m\"\u001b[39m, float_val \u001b[38;5;241m<\u001b[39m float_val)\n\u001b[0;32m      5\u001b[0m \u001b[38;5;28mprint\u001b[39m(\u001b[38;5;124m\"\u001b[39m\u001b[38;5;124mstr < str:\u001b[39m\u001b[38;5;124m\"\u001b[39m, str_val \u001b[38;5;241m<\u001b[39m \u001b[38;5;124m\"\u001b[39m\u001b[38;5;124mten\u001b[39m\u001b[38;5;124m\"\u001b[39m)\n\u001b[1;32m----> 6\u001b[0m \u001b[38;5;28mprint\u001b[39m(\u001b[38;5;124m\"\u001b[39m\u001b[38;5;124mfloat < str:\u001b[39m\u001b[38;5;124m\"\u001b[39m, \u001b[43mfloat_val\u001b[49m\u001b[43m \u001b[49m\u001b[38;5;241;43m<\u001b[39;49m\u001b[43m \u001b[49m\u001b[43mstr_val\u001b[49m)  \n\u001b[0;32m      8\u001b[0m \u001b[38;5;28mprint\u001b[39m(\u001b[38;5;124m\"\u001b[39m\u001b[38;5;130;01m\\n\u001b[39;00m\u001b[38;5;124m---\u001b[39m\u001b[38;5;124m\"\u001b[39m)\n",
      "\u001b[1;31mTypeError\u001b[0m: '<' not supported between instances of 'float' and 'str'"
     ]
    }
   ],
   "source": [
    "# Less Than (<)\n",
    "print(\"int < int:\", int_val < int_val)\n",
    "print(\"int < float:\", int_val < float_val)\n",
    "print(\"float < float:\", float_val < float_val)\n",
    "print(\"str < str:\", str_val < \"ten\")\n",
    "print(\"float < str:\", float_val < str_val)  \n",
    "\n",
    "print(\"\\n---\")\n"
   ]
  },
  {
   "cell_type": "code",
   "execution_count": 133,
   "id": "f5fce02a-8551-4a5f-86a8-03159bea9c19",
   "metadata": {},
   "outputs": [
    {
     "name": "stdout",
     "output_type": "stream",
     "text": [
      "int > int: False\n",
      "int > float: False\n",
      "float > float: False\n",
      "str > str: False\n"
     ]
    },
    {
     "ename": "TypeError",
     "evalue": "'>=' not supported between instances of 'float' and 'str'",
     "output_type": "error",
     "traceback": [
      "\u001b[1;31m---------------------------------------------------------------------------\u001b[0m",
      "\u001b[1;31mTypeError\u001b[0m                                 Traceback (most recent call last)",
      "Cell \u001b[1;32mIn[133], line 6\u001b[0m\n\u001b[0;32m      4\u001b[0m \u001b[38;5;28mprint\u001b[39m(\u001b[38;5;124m\"\u001b[39m\u001b[38;5;124mfloat > float:\u001b[39m\u001b[38;5;124m\"\u001b[39m, float_val \u001b[38;5;241m>\u001b[39m float_val)\n\u001b[0;32m      5\u001b[0m \u001b[38;5;28mprint\u001b[39m(\u001b[38;5;124m\"\u001b[39m\u001b[38;5;124mstr > str:\u001b[39m\u001b[38;5;124m\"\u001b[39m, str_val \u001b[38;5;241m>\u001b[39m \u001b[38;5;124m\"\u001b[39m\u001b[38;5;124mten\u001b[39m\u001b[38;5;124m\"\u001b[39m)\n\u001b[1;32m----> 6\u001b[0m \u001b[38;5;28mprint\u001b[39m(\u001b[38;5;124m\"\u001b[39m\u001b[38;5;124mfloat >= str:\u001b[39m\u001b[38;5;124m\"\u001b[39m, \u001b[43mfloat_val\u001b[49m\u001b[43m \u001b[49m\u001b[38;5;241;43m>\u001b[39;49m\u001b[38;5;241;43m=\u001b[39;49m\u001b[43m \u001b[49m\u001b[43mstr_val\u001b[49m)\n\u001b[0;32m      8\u001b[0m \u001b[38;5;28mprint\u001b[39m(\u001b[38;5;124m\"\u001b[39m\u001b[38;5;130;01m\\n\u001b[39;00m\u001b[38;5;124m---\u001b[39m\u001b[38;5;124m\"\u001b[39m)\n",
      "\u001b[1;31mTypeError\u001b[0m: '>=' not supported between instances of 'float' and 'str'"
     ]
    }
   ],
   "source": [
    "# Greater Than (>)\n",
    "print(\"int > int:\", int_val > int_val)\n",
    "print(\"int > float:\", int_val > float_val)\n",
    "print(\"float > float:\", float_val > float_val)\n",
    "print(\"str > str:\", str_val > \"ten\")\n",
    "print(\"float >= str:\", float_val >= str_val)\n",
    "\n",
    "print(\"\\n---\")"
   ]
  },
  {
   "cell_type": "code",
   "execution_count": 134,
   "id": "677c05fe-a16f-4921-a75a-9753d347735f",
   "metadata": {},
   "outputs": [
    {
     "name": "stdout",
     "output_type": "stream",
     "text": [
      "int >= int: True\n",
      "int >= float: False\n",
      "float >= float: True\n",
      "str >= str: True\n"
     ]
    },
    {
     "ename": "TypeError",
     "evalue": "'>=' not supported between instances of 'float' and 'str'",
     "output_type": "error",
     "traceback": [
      "\u001b[1;31m---------------------------------------------------------------------------\u001b[0m",
      "\u001b[1;31mTypeError\u001b[0m                                 Traceback (most recent call last)",
      "Cell \u001b[1;32mIn[134], line 6\u001b[0m\n\u001b[0;32m      4\u001b[0m \u001b[38;5;28mprint\u001b[39m(\u001b[38;5;124m\"\u001b[39m\u001b[38;5;124mfloat >= float:\u001b[39m\u001b[38;5;124m\"\u001b[39m, float_val \u001b[38;5;241m>\u001b[39m\u001b[38;5;241m=\u001b[39m float_val)\n\u001b[0;32m      5\u001b[0m \u001b[38;5;28mprint\u001b[39m(\u001b[38;5;124m\"\u001b[39m\u001b[38;5;124mstr >= str:\u001b[39m\u001b[38;5;124m\"\u001b[39m, str_val \u001b[38;5;241m>\u001b[39m\u001b[38;5;241m=\u001b[39m \u001b[38;5;124m\"\u001b[39m\u001b[38;5;124mten\u001b[39m\u001b[38;5;124m\"\u001b[39m)\n\u001b[1;32m----> 6\u001b[0m \u001b[38;5;28mprint\u001b[39m(\u001b[38;5;124m\"\u001b[39m\u001b[38;5;124mfloat >= str:\u001b[39m\u001b[38;5;124m\"\u001b[39m, \u001b[43mfloat_val\u001b[49m\u001b[43m \u001b[49m\u001b[38;5;241;43m>\u001b[39;49m\u001b[38;5;241;43m=\u001b[39;49m\u001b[43m \u001b[49m\u001b[43mstr_val\u001b[49m)\n\u001b[0;32m      8\u001b[0m \u001b[38;5;28mprint\u001b[39m(\u001b[38;5;124m\"\u001b[39m\u001b[38;5;130;01m\\n\u001b[39;00m\u001b[38;5;124m---\u001b[39m\u001b[38;5;124m\"\u001b[39m)\n",
      "\u001b[1;31mTypeError\u001b[0m: '>=' not supported between instances of 'float' and 'str'"
     ]
    }
   ],
   "source": [
    "# Greater Than or Equal (>=)\n",
    "print(\"int >= int:\", int_val >= int_val)\n",
    "print(\"int >= float:\", int_val >= float_val)\n",
    "print(\"float >= float:\", float_val >= float_val)\n",
    "print(\"str >= str:\", str_val >= \"ten\")\n",
    "print(\"float >= str:\", float_val >= str_val)\n",
    "\n",
    "print(\"\\n---\")\n"
   ]
  },
  {
   "cell_type": "code",
   "execution_count": 135,
   "id": "5a923f3b-2723-4288-b9a5-b98e1304211d",
   "metadata": {},
   "outputs": [
    {
     "name": "stdout",
     "output_type": "stream",
     "text": [
      "int <= int: True\n",
      "int <= float: True\n",
      "float <= float: True\n",
      "str <= str: True\n"
     ]
    },
    {
     "ename": "TypeError",
     "evalue": "'<=' not supported between instances of 'float' and 'str'",
     "output_type": "error",
     "traceback": [
      "\u001b[1;31m---------------------------------------------------------------------------\u001b[0m",
      "\u001b[1;31mTypeError\u001b[0m                                 Traceback (most recent call last)",
      "Cell \u001b[1;32mIn[135], line 6\u001b[0m\n\u001b[0;32m      4\u001b[0m \u001b[38;5;28mprint\u001b[39m(\u001b[38;5;124m\"\u001b[39m\u001b[38;5;124mfloat <= float:\u001b[39m\u001b[38;5;124m\"\u001b[39m, float_val \u001b[38;5;241m<\u001b[39m\u001b[38;5;241m=\u001b[39m float_val)\n\u001b[0;32m      5\u001b[0m \u001b[38;5;28mprint\u001b[39m(\u001b[38;5;124m\"\u001b[39m\u001b[38;5;124mstr <= str:\u001b[39m\u001b[38;5;124m\"\u001b[39m, str_val \u001b[38;5;241m<\u001b[39m\u001b[38;5;241m=\u001b[39m \u001b[38;5;124m\"\u001b[39m\u001b[38;5;124mten\u001b[39m\u001b[38;5;124m\"\u001b[39m)\n\u001b[1;32m----> 6\u001b[0m \u001b[38;5;28mprint\u001b[39m(\u001b[38;5;124m\"\u001b[39m\u001b[38;5;124mfloat <= str:\u001b[39m\u001b[38;5;124m\"\u001b[39m, \u001b[43mfloat_val\u001b[49m\u001b[43m \u001b[49m\u001b[38;5;241;43m<\u001b[39;49m\u001b[38;5;241;43m=\u001b[39;49m\u001b[43m \u001b[49m\u001b[43mstr_val\u001b[49m)\n\u001b[0;32m      8\u001b[0m \u001b[38;5;28mprint\u001b[39m(\u001b[38;5;124m\"\u001b[39m\u001b[38;5;130;01m\\n\u001b[39;00m\u001b[38;5;124m---\u001b[39m\u001b[38;5;124m\"\u001b[39m)\n",
      "\u001b[1;31mTypeError\u001b[0m: '<=' not supported between instances of 'float' and 'str'"
     ]
    }
   ],
   "source": [
    "# Less Than or Equal (<=)\n",
    "print(\"int <= int:\", int_val <= int_val)\n",
    "print(\"int <= float:\", int_val <= float_val)\n",
    "print(\"float <= float:\", float_val <= float_val)\n",
    "print(\"str <= str:\", str_val <= \"ten\")\n",
    "print(\"float <= str:\", float_val <= str_val)\n",
    "\n",
    "print(\"\\n---\")"
   ]
  },
  {
   "cell_type": "code",
   "execution_count": 136,
   "id": "b155bbbb-be9f-4868-8d7e-8e80e829d2cb",
   "metadata": {},
   "outputs": [
    {
     "name": "stdout",
     "output_type": "stream",
     "text": [
      "int == int: True\n",
      "int == float: False\n",
      "float == float: True\n",
      "str == str: True\n",
      "float == str: False\n"
     ]
    }
   ],
   "source": [
    "# Equality (==)\n",
    "print(\"int == int:\", int_val == int_val)\n",
    "print(\"int == float:\", int_val == float_val)\n",
    "print(\"float == float:\", float_val == float_val)\n",
    "print(\"str == str:\", str_val == \"ten\")\n",
    "print(\"float == str:\", float_val == str_val)"
   ]
  },
  {
   "cell_type": "markdown",
   "id": "6c5b22a4-a0cf-4681-be44-4bf86b9bd6d8",
   "metadata": {},
   "source": [
    "Too many suprises"
   ]
  },
  {
   "cell_type": "markdown",
   "id": "7019e22d-55dc-4d4e-bfab-61bbc11e96cf",
   "metadata": {},
   "source": [
    "4.To read the output from help for better understanding?"
   ]
  },
  {
   "cell_type": "code",
   "execution_count": 137,
   "id": "f58e4bf0-144d-48ab-a11e-d537c08b06be",
   "metadata": {},
   "outputs": [
    {
     "name": "stdout",
     "output_type": "stream",
     "text": [
      "Help on class int in module builtins:\n",
      "\n",
      "class int(object)\n",
      " |  int([x]) -> integer\n",
      " |  int(x, base=10) -> integer\n",
      " |\n",
      " |  Convert a number or string to an integer, or return 0 if no arguments\n",
      " |  are given.  If x is a number, return x.__int__().  For floating-point\n",
      " |  numbers, this truncates towards zero.\n",
      " |\n",
      " |  If x is not a number or if base is given, then x must be a string,\n",
      " |  bytes, or bytearray instance representing an integer literal in the\n",
      " |  given base.  The literal can be preceded by '+' or '-' and be surrounded\n",
      " |  by whitespace.  The base defaults to 10.  Valid bases are 0 and 2-36.\n",
      " |  Base 0 means to interpret the base from the string as an integer literal.\n",
      " |  >>> int('0b100', base=0)\n",
      " |  4\n",
      " |\n",
      " |  Built-in subclasses:\n",
      " |      bool\n",
      " |\n",
      " |  Methods defined here:\n",
      " |\n",
      " |  __abs__(self, /)\n",
      " |      abs(self)\n",
      " |\n",
      " |  __add__(self, value, /)\n",
      " |      Return self+value.\n",
      " |\n",
      " |  __and__(self, value, /)\n",
      " |      Return self&value.\n",
      " |\n",
      " |  __bool__(self, /)\n",
      " |      True if self else False\n",
      " |\n",
      " |  __ceil__(self, /)\n",
      " |      Ceiling of an Integral returns itself.\n",
      " |\n",
      " |  __divmod__(self, value, /)\n",
      " |      Return divmod(self, value).\n",
      " |\n",
      " |  __eq__(self, value, /)\n",
      " |      Return self==value.\n",
      " |\n",
      " |  __float__(self, /)\n",
      " |      float(self)\n",
      " |\n",
      " |  __floor__(self, /)\n",
      " |      Flooring an Integral returns itself.\n",
      " |\n",
      " |  __floordiv__(self, value, /)\n",
      " |      Return self//value.\n",
      " |\n",
      " |  __format__(self, format_spec, /)\n",
      " |      Convert to a string according to format_spec.\n",
      " |\n",
      " |  __ge__(self, value, /)\n",
      " |      Return self>=value.\n",
      " |\n",
      " |  __getattribute__(self, name, /)\n",
      " |      Return getattr(self, name).\n",
      " |\n",
      " |  __getnewargs__(self, /)\n",
      " |\n",
      " |  __gt__(self, value, /)\n",
      " |      Return self>value.\n",
      " |\n",
      " |  __hash__(self, /)\n",
      " |      Return hash(self).\n",
      " |\n",
      " |  __index__(self, /)\n",
      " |      Return self converted to an integer, if self is suitable for use as an index into a list.\n",
      " |\n",
      " |  __int__(self, /)\n",
      " |      int(self)\n",
      " |\n",
      " |  __invert__(self, /)\n",
      " |      ~self\n",
      " |\n",
      " |  __le__(self, value, /)\n",
      " |      Return self<=value.\n",
      " |\n",
      " |  __lshift__(self, value, /)\n",
      " |      Return self<<value.\n",
      " |\n",
      " |  __lt__(self, value, /)\n",
      " |      Return self<value.\n",
      " |\n",
      " |  __mod__(self, value, /)\n",
      " |      Return self%value.\n",
      " |\n",
      " |  __mul__(self, value, /)\n",
      " |      Return self*value.\n",
      " |\n",
      " |  __ne__(self, value, /)\n",
      " |      Return self!=value.\n",
      " |\n",
      " |  __neg__(self, /)\n",
      " |      -self\n",
      " |\n",
      " |  __or__(self, value, /)\n",
      " |      Return self|value.\n",
      " |\n",
      " |  __pos__(self, /)\n",
      " |      +self\n",
      " |\n",
      " |  __pow__(self, value, mod=None, /)\n",
      " |      Return pow(self, value, mod).\n",
      " |\n",
      " |  __radd__(self, value, /)\n",
      " |      Return value+self.\n",
      " |\n",
      " |  __rand__(self, value, /)\n",
      " |      Return value&self.\n",
      " |\n",
      " |  __rdivmod__(self, value, /)\n",
      " |      Return divmod(value, self).\n",
      " |\n",
      " |  __repr__(self, /)\n",
      " |      Return repr(self).\n",
      " |\n",
      " |  __rfloordiv__(self, value, /)\n",
      " |      Return value//self.\n",
      " |\n",
      " |  __rlshift__(self, value, /)\n",
      " |      Return value<<self.\n",
      " |\n",
      " |  __rmod__(self, value, /)\n",
      " |      Return value%self.\n",
      " |\n",
      " |  __rmul__(self, value, /)\n",
      " |      Return value*self.\n",
      " |\n",
      " |  __ror__(self, value, /)\n",
      " |      Return value|self.\n",
      " |\n",
      " |  __round__(self, ndigits=<unrepresentable>, /)\n",
      " |      Rounding an Integral returns itself.\n",
      " |\n",
      " |      Rounding with an ndigits argument also returns an integer.\n",
      " |\n",
      " |  __rpow__(self, value, mod=None, /)\n",
      " |      Return pow(value, self, mod).\n",
      " |\n",
      " |  __rrshift__(self, value, /)\n",
      " |      Return value>>self.\n",
      " |\n",
      " |  __rshift__(self, value, /)\n",
      " |      Return self>>value.\n",
      " |\n",
      " |  __rsub__(self, value, /)\n",
      " |      Return value-self.\n",
      " |\n",
      " |  __rtruediv__(self, value, /)\n",
      " |      Return value/self.\n",
      " |\n",
      " |  __rxor__(self, value, /)\n",
      " |      Return value^self.\n",
      " |\n",
      " |  __sizeof__(self, /)\n",
      " |      Returns size in memory, in bytes.\n",
      " |\n",
      " |  __sub__(self, value, /)\n",
      " |      Return self-value.\n",
      " |\n",
      " |  __truediv__(self, value, /)\n",
      " |      Return self/value.\n",
      " |\n",
      " |  __trunc__(self, /)\n",
      " |      Truncating an Integral returns itself.\n",
      " |\n",
      " |  __xor__(self, value, /)\n",
      " |      Return self^value.\n",
      " |\n",
      " |  as_integer_ratio(self, /)\n",
      " |      Return a pair of integers, whose ratio is equal to the original int.\n",
      " |\n",
      " |      The ratio is in lowest terms and has a positive denominator.\n",
      " |\n",
      " |      >>> (10).as_integer_ratio()\n",
      " |      (10, 1)\n",
      " |      >>> (-10).as_integer_ratio()\n",
      " |      (-10, 1)\n",
      " |      >>> (0).as_integer_ratio()\n",
      " |      (0, 1)\n",
      " |\n",
      " |  bit_count(self, /)\n",
      " |      Number of ones in the binary representation of the absolute value of self.\n",
      " |\n",
      " |      Also known as the population count.\n",
      " |\n",
      " |      >>> bin(13)\n",
      " |      '0b1101'\n",
      " |      >>> (13).bit_count()\n",
      " |      3\n",
      " |\n",
      " |  bit_length(self, /)\n",
      " |      Number of bits necessary to represent self in binary.\n",
      " |\n",
      " |      >>> bin(37)\n",
      " |      '0b100101'\n",
      " |      >>> (37).bit_length()\n",
      " |      6\n",
      " |\n",
      " |  conjugate(self, /)\n",
      " |      Returns self, the complex conjugate of any int.\n",
      " |\n",
      " |  is_integer(self, /)\n",
      " |      Returns True. Exists for duck type compatibility with float.is_integer.\n",
      " |\n",
      " |  to_bytes(self, /, length=1, byteorder='big', *, signed=False)\n",
      " |      Return an array of bytes representing an integer.\n",
      " |\n",
      " |      length\n",
      " |        Length of bytes object to use.  An OverflowError is raised if the\n",
      " |        integer is not representable with the given number of bytes.  Default\n",
      " |        is length 1.\n",
      " |      byteorder\n",
      " |        The byte order used to represent the integer.  If byteorder is 'big',\n",
      " |        the most significant byte is at the beginning of the byte array.  If\n",
      " |        byteorder is 'little', the most significant byte is at the end of the\n",
      " |        byte array.  To request the native byte order of the host system, use\n",
      " |        sys.byteorder as the byte order value.  Default is to use 'big'.\n",
      " |      signed\n",
      " |        Determines whether two's complement is used to represent the integer.\n",
      " |        If signed is False and a negative integer is given, an OverflowError\n",
      " |        is raised.\n",
      " |\n",
      " |  ----------------------------------------------------------------------\n",
      " |  Class methods defined here:\n",
      " |\n",
      " |  from_bytes(bytes, byteorder='big', *, signed=False)\n",
      " |      Return the integer represented by the given array of bytes.\n",
      " |\n",
      " |      bytes\n",
      " |        Holds the array of bytes to convert.  The argument must either\n",
      " |        support the buffer protocol or be an iterable object producing bytes.\n",
      " |        Bytes and bytearray are examples of built-in objects that support the\n",
      " |        buffer protocol.\n",
      " |      byteorder\n",
      " |        The byte order used to represent the integer.  If byteorder is 'big',\n",
      " |        the most significant byte is at the beginning of the byte array.  If\n",
      " |        byteorder is 'little', the most significant byte is at the end of the\n",
      " |        byte array.  To request the native byte order of the host system, use\n",
      " |        sys.byteorder as the byte order value.  Default is to use 'big'.\n",
      " |      signed\n",
      " |        Indicates whether two's complement is used to represent the integer.\n",
      " |\n",
      " |  ----------------------------------------------------------------------\n",
      " |  Static methods defined here:\n",
      " |\n",
      " |  __new__(*args, **kwargs)\n",
      " |      Create and return a new object.  See help(type) for accurate signature.\n",
      " |\n",
      " |  ----------------------------------------------------------------------\n",
      " |  Data descriptors defined here:\n",
      " |\n",
      " |  denominator\n",
      " |      the denominator of a rational number in lowest terms\n",
      " |\n",
      " |  imag\n",
      " |      the imaginary part of a complex number\n",
      " |\n",
      " |  numerator\n",
      " |      the numerator of a rational number in lowest terms\n",
      " |\n",
      " |  real\n",
      " |      the real part of a complex number\n",
      "\n"
     ]
    }
   ],
   "source": [
    "help(int)"
   ]
  },
  {
   "cell_type": "code",
   "execution_count": 99,
   "id": "51825d75-e0bb-451c-ab01-530d4f7af5ce",
   "metadata": {},
   "outputs": [
    {
     "name": "stdout",
     "output_type": "stream",
     "text": [
      "Help on class float in module builtins:\n",
      "\n",
      "class float(object)\n",
      " |  float(x=0, /)\n",
      " |\n",
      " |  Convert a string or number to a floating-point number, if possible.\n",
      " |\n",
      " |  Methods defined here:\n",
      " |\n",
      " |  __abs__(self, /)\n",
      " |      abs(self)\n",
      " |\n",
      " |  __add__(self, value, /)\n",
      " |      Return self+value.\n",
      " |\n",
      " |  __bool__(self, /)\n",
      " |      True if self else False\n",
      " |\n",
      " |  __ceil__(self, /)\n",
      " |      Return the ceiling as an Integral.\n",
      " |\n",
      " |  __divmod__(self, value, /)\n",
      " |      Return divmod(self, value).\n",
      " |\n",
      " |  __eq__(self, value, /)\n",
      " |      Return self==value.\n",
      " |\n",
      " |  __float__(self, /)\n",
      " |      float(self)\n",
      " |\n",
      " |  __floor__(self, /)\n",
      " |      Return the floor as an Integral.\n",
      " |\n",
      " |  __floordiv__(self, value, /)\n",
      " |      Return self//value.\n",
      " |\n",
      " |  __format__(self, format_spec, /)\n",
      " |      Formats the float according to format_spec.\n",
      " |\n",
      " |  __ge__(self, value, /)\n",
      " |      Return self>=value.\n",
      " |\n",
      " |  __getnewargs__(self, /)\n",
      " |\n",
      " |  __gt__(self, value, /)\n",
      " |      Return self>value.\n",
      " |\n",
      " |  __hash__(self, /)\n",
      " |      Return hash(self).\n",
      " |\n",
      " |  __int__(self, /)\n",
      " |      int(self)\n",
      " |\n",
      " |  __le__(self, value, /)\n",
      " |      Return self<=value.\n",
      " |\n",
      " |  __lt__(self, value, /)\n",
      " |      Return self<value.\n",
      " |\n",
      " |  __mod__(self, value, /)\n",
      " |      Return self%value.\n",
      " |\n",
      " |  __mul__(self, value, /)\n",
      " |      Return self*value.\n",
      " |\n",
      " |  __ne__(self, value, /)\n",
      " |      Return self!=value.\n",
      " |\n",
      " |  __neg__(self, /)\n",
      " |      -self\n",
      " |\n",
      " |  __pos__(self, /)\n",
      " |      +self\n",
      " |\n",
      " |  __pow__(self, value, mod=None, /)\n",
      " |      Return pow(self, value, mod).\n",
      " |\n",
      " |  __radd__(self, value, /)\n",
      " |      Return value+self.\n",
      " |\n",
      " |  __rdivmod__(self, value, /)\n",
      " |      Return divmod(value, self).\n",
      " |\n",
      " |  __repr__(self, /)\n",
      " |      Return repr(self).\n",
      " |\n",
      " |  __rfloordiv__(self, value, /)\n",
      " |      Return value//self.\n",
      " |\n",
      " |  __rmod__(self, value, /)\n",
      " |      Return value%self.\n",
      " |\n",
      " |  __rmul__(self, value, /)\n",
      " |      Return value*self.\n",
      " |\n",
      " |  __round__(self, ndigits=None, /)\n",
      " |      Return the Integral closest to x, rounding half toward even.\n",
      " |\n",
      " |      When an argument is passed, work like built-in round(x, ndigits).\n",
      " |\n",
      " |  __rpow__(self, value, mod=None, /)\n",
      " |      Return pow(value, self, mod).\n",
      " |\n",
      " |  __rsub__(self, value, /)\n",
      " |      Return value-self.\n",
      " |\n",
      " |  __rtruediv__(self, value, /)\n",
      " |      Return value/self.\n",
      " |\n",
      " |  __sub__(self, value, /)\n",
      " |      Return self-value.\n",
      " |\n",
      " |  __truediv__(self, value, /)\n",
      " |      Return self/value.\n",
      " |\n",
      " |  __trunc__(self, /)\n",
      " |      Return the Integral closest to x between 0 and x.\n",
      " |\n",
      " |  as_integer_ratio(self, /)\n",
      " |      Return a pair of integers, whose ratio is exactly equal to the original float.\n",
      " |\n",
      " |      The ratio is in lowest terms and has a positive denominator.  Raise\n",
      " |      OverflowError on infinities and a ValueError on NaNs.\n",
      " |\n",
      " |      >>> (10.0).as_integer_ratio()\n",
      " |      (10, 1)\n",
      " |      >>> (0.0).as_integer_ratio()\n",
      " |      (0, 1)\n",
      " |      >>> (-.25).as_integer_ratio()\n",
      " |      (-1, 4)\n",
      " |\n",
      " |  conjugate(self, /)\n",
      " |      Return self, the complex conjugate of any float.\n",
      " |\n",
      " |  hex(self, /)\n",
      " |      Return a hexadecimal representation of a floating-point number.\n",
      " |\n",
      " |      >>> (-0.1).hex()\n",
      " |      '-0x1.999999999999ap-4'\n",
      " |      >>> 3.14159.hex()\n",
      " |      '0x1.921f9f01b866ep+1'\n",
      " |\n",
      " |  is_integer(self, /)\n",
      " |      Return True if the float is an integer.\n",
      " |\n",
      " |  ----------------------------------------------------------------------\n",
      " |  Class methods defined here:\n",
      " |\n",
      " |  __getformat__(typestr, /)\n",
      " |      You probably don't want to use this function.\n",
      " |\n",
      " |        typestr\n",
      " |          Must be 'double' or 'float'.\n",
      " |\n",
      " |      It exists mainly to be used in Python's test suite.\n",
      " |\n",
      " |      This function returns whichever of 'unknown', 'IEEE, big-endian' or 'IEEE,\n",
      " |      little-endian' best describes the format of floating-point numbers used by the\n",
      " |      C type named by typestr.\n",
      " |\n",
      " |  fromhex(string, /)\n",
      " |      Create a floating-point number from a hexadecimal string.\n",
      " |\n",
      " |      >>> float.fromhex('0x1.ffffp10')\n",
      " |      2047.984375\n",
      " |      >>> float.fromhex('-0x1p-1074')\n",
      " |      -5e-324\n",
      " |\n",
      " |  ----------------------------------------------------------------------\n",
      " |  Static methods defined here:\n",
      " |\n",
      " |  __new__(*args, **kwargs)\n",
      " |      Create and return a new object.  See help(type) for accurate signature.\n",
      " |\n",
      " |  ----------------------------------------------------------------------\n",
      " |  Data descriptors defined here:\n",
      " |\n",
      " |  imag\n",
      " |      the imaginary part of a complex number\n",
      " |\n",
      " |  real\n",
      " |      the real part of a complex number\n",
      "\n"
     ]
    }
   ],
   "source": [
    "help(float)"
   ]
  },
  {
   "cell_type": "markdown",
   "id": "0561f9f8-1244-45cc-ba16-e358064d917e",
   "metadata": {},
   "source": [
    "# 4 About Random number generator"
   ]
  },
  {
   "cell_type": "code",
   "execution_count": 138,
   "id": "75cc99bf-6cbc-411b-a630-a6dc9fc52486",
   "metadata": {},
   "outputs": [
    {
     "name": "stdout",
     "output_type": "stream",
     "text": [
      "cherry\n"
     ]
    }
   ],
   "source": [
    "import random\n",
    "fruits = ['apple', 'banana', 'cherry']\n",
    "print(random.choice(fruits))\n"
   ]
  },
  {
   "cell_type": "code",
   "execution_count": 140,
   "id": "b5b15d8b-e9ed-41f0-a4a0-6c281ca413b7",
   "metadata": {},
   "outputs": [
    {
     "data": {
      "text/plain": [
       "4"
      ]
     },
     "execution_count": 140,
     "metadata": {},
     "output_type": "execute_result"
    }
   ],
   "source": [
    "import random\n",
    "random.random()\n",
    "random.randint(1, 10)\n"
   ]
  },
  {
   "cell_type": "markdown",
   "id": "5effdcee-7a45-4844-893e-c189470b34e8",
   "metadata": {},
   "source": [
    "I realise that the code of printing a random.any list or whatever give the random choice among the given list."
   ]
  },
  {
   "cell_type": "markdown",
   "id": "35219af3-520a-424c-8d63-4c143110c23d",
   "metadata": {},
   "source": [
    "# 5 More on data types"
   ]
  },
  {
   "cell_type": "markdown",
   "id": "893a9f74-d4ad-415c-8fbf-d417ea8f86c1",
   "metadata": {},
   "source": [
    "Given:math.log10() and math.floor()\n",
    "1. What is the value and type of log10(42)?"
   ]
  },
  {
   "cell_type": "code",
   "execution_count": 141,
   "id": "c6a0a801-64eb-42d6-a2a3-b2da11a14f1b",
   "metadata": {},
   "outputs": [
    {
     "name": "stdout",
     "output_type": "stream",
     "text": [
      "Value: 1.6232492903979006\n",
      "Type: <class 'float'>\n"
     ]
    }
   ],
   "source": [
    "import math\n",
    "x = math.log10(42)\n",
    "print(\"Value:\", x)\n",
    "print(\"Type:\", type(x))\n"
   ]
  },
  {
   "cell_type": "markdown",
   "id": "6d2e32f0-0147-402c-b8e2-306944263f4c",
   "metadata": {},
   "source": [
    "2. What is the value and type of log10(-0.32)?"
   ]
  },
  {
   "cell_type": "code",
   "execution_count": 142,
   "id": "61950878-71da-4b9c-8fc8-26b02acdfe4e",
   "metadata": {},
   "outputs": [
    {
     "ename": "ValueError",
     "evalue": "math domain error",
     "output_type": "error",
     "traceback": [
      "\u001b[1;31m---------------------------------------------------------------------------\u001b[0m",
      "\u001b[1;31mValueError\u001b[0m                                Traceback (most recent call last)",
      "Cell \u001b[1;32mIn[142], line 4\u001b[0m\n\u001b[0;32m      1\u001b[0m \u001b[38;5;28;01mimport\u001b[39;00m \u001b[38;5;21;01mmath\u001b[39;00m\n\u001b[0;32m      3\u001b[0m x \u001b[38;5;241m=\u001b[39m \u001b[38;5;241m-\u001b[39m\u001b[38;5;241m0.32\u001b[39m\n\u001b[1;32m----> 4\u001b[0m result \u001b[38;5;241m=\u001b[39m \u001b[43mmath\u001b[49m\u001b[38;5;241;43m.\u001b[39;49m\u001b[43mlog10\u001b[49m\u001b[43m(\u001b[49m\u001b[43mx\u001b[49m\u001b[43m)\u001b[49m\n\u001b[0;32m      5\u001b[0m \u001b[38;5;28mprint\u001b[39m(\u001b[38;5;124m\"\u001b[39m\u001b[38;5;124mValue:\u001b[39m\u001b[38;5;124m\"\u001b[39m, result)\n\u001b[0;32m      6\u001b[0m \u001b[38;5;28mprint\u001b[39m(\u001b[38;5;124m\"\u001b[39m\u001b[38;5;124mType:\u001b[39m\u001b[38;5;124m\"\u001b[39m, \u001b[38;5;28mtype\u001b[39m(result))\n",
      "\u001b[1;31mValueError\u001b[0m: math domain error"
     ]
    }
   ],
   "source": [
    "import math\n",
    "\n",
    "x = -0.32\n",
    "result = math.log10(x)\n",
    "print(\"Value:\", result)\n",
    "print(\"Type:\", type(result))\n"
   ]
  },
  {
   "cell_type": "markdown",
   "id": "c7237051-66af-4c28-ad62-2a521c117c57",
   "metadata": {},
   "source": [
    "Error because The logarithm of a negative number is undefined in real numbers. but below can work"
   ]
  },
  {
   "cell_type": "code",
   "execution_count": 143,
   "id": "761f48f0-7749-48b2-921c-57747f42ae3d",
   "metadata": {},
   "outputs": [
    {
     "name": "stdout",
     "output_type": "stream",
     "text": [
      "Value: (-0.49485002168009395+1.3643763538418412j)\n",
      "Type: <class 'complex'>\n"
     ]
    }
   ],
   "source": [
    "import cmath\n",
    "x = -0.32\n",
    "result = cmath.log10(x)\n",
    "print(\"Value:\", result)\n",
    "print(\"Type:\", type(result))\n"
   ]
  },
  {
   "cell_type": "markdown",
   "id": "abd155b5-3eb8-4c73-bb5a-38585647344d",
   "metadata": {},
   "source": [
    "3.Return type of Floor acting on an int and float"
   ]
  },
  {
   "cell_type": "code",
   "execution_count": 144,
   "id": "f2b046c6-f1c8-408e-b3f4-a6ac8fde7fc5",
   "metadata": {},
   "outputs": [
    {
     "name": "stdout",
     "output_type": "stream",
     "text": [
      "Value: 7\n",
      "Type: <class 'int'>\n"
     ]
    }
   ],
   "source": [
    "import math\n",
    "\n",
    "x = 7\n",
    "y = math.floor(x)\n",
    "print(\"Value:\", y)\n",
    "print(\"Type:\", type(y))\n"
   ]
  },
  {
   "cell_type": "code",
   "execution_count": 145,
   "id": "d3548eff-9b9d-4caf-b621-3ff97c796111",
   "metadata": {},
   "outputs": [
    {
     "name": "stdout",
     "output_type": "stream",
     "text": [
      "Value: 3\n",
      "Type: <class 'int'>\n"
     ]
    }
   ],
   "source": [
    "import math\n",
    "w = 3.9\n",
    "z = math.floor(w)\n",
    "print(\"Value:\", z)\n",
    "print(\"Type:\", type(z))\n"
   ]
  },
  {
   "cell_type": "markdown",
   "id": "072e099c-cd96-41d0-abbd-8b88fe1fda42",
   "metadata": {},
   "source": [
    "4. Testing if len() return a value on the basic data types i've learned so far: str, int, and float."
   ]
  },
  {
   "cell_type": "code",
   "execution_count": 146,
   "id": "4763e9a7-6975-450c-8df2-f9aab00f43b8",
   "metadata": {},
   "outputs": [
    {
     "name": "stdout",
     "output_type": "stream",
     "text": [
      "13\n"
     ]
    }
   ],
   "source": [
    "# does len() return a value on a str?\n",
    "a = \"i love coding\"\n",
    "print(len(a))  \n"
   ]
  },
  {
   "cell_type": "markdown",
   "id": "0de10c75-e501-4091-aec8-f3493d1bf791",
   "metadata": {},
   "source": [
    "Yes, but it returns length not length + 1"
   ]
  },
  {
   "cell_type": "code",
   "execution_count": 147,
   "id": "252c8d05-14fb-4c50-a4bf-598ebb119522",
   "metadata": {},
   "outputs": [
    {
     "ename": "TypeError",
     "evalue": "object of type 'int' has no len()",
     "output_type": "error",
     "traceback": [
      "\u001b[1;31m---------------------------------------------------------------------------\u001b[0m",
      "\u001b[1;31mTypeError\u001b[0m                                 Traceback (most recent call last)",
      "Cell \u001b[1;32mIn[147], line 3\u001b[0m\n\u001b[0;32m      1\u001b[0m \u001b[38;5;66;03m# does len() return a value on an int?\u001b[39;00m\n\u001b[0;32m      2\u001b[0m b \u001b[38;5;241m=\u001b[39m \u001b[38;5;241m123\u001b[39m\n\u001b[1;32m----> 3\u001b[0m \u001b[38;5;28mprint\u001b[39m(\u001b[38;5;28;43mlen\u001b[39;49m\u001b[43m(\u001b[49m\u001b[43mb\u001b[49m\u001b[43m)\u001b[49m)   \n",
      "\u001b[1;31mTypeError\u001b[0m: object of type 'int' has no len()"
     ]
    }
   ],
   "source": [
    "# does len() return a value on an int?\n",
    "b = 123\n",
    "print(len(b))   \n"
   ]
  },
  {
   "cell_type": "markdown",
   "id": "1d9f9690-46f3-4c15-9443-74e9b89599e0",
   "metadata": {},
   "source": [
    "No, returns error since int is not sized "
   ]
  },
  {
   "cell_type": "code",
   "execution_count": 148,
   "id": "d7dd7265-681e-4784-88b4-10128f04031b",
   "metadata": {},
   "outputs": [
    {
     "ename": "TypeError",
     "evalue": "object of type 'float' has no len()",
     "output_type": "error",
     "traceback": [
      "\u001b[1;31m---------------------------------------------------------------------------\u001b[0m",
      "\u001b[1;31mTypeError\u001b[0m                                 Traceback (most recent call last)",
      "Cell \u001b[1;32mIn[148], line 3\u001b[0m\n\u001b[0;32m      1\u001b[0m \u001b[38;5;66;03m# does len() return a value on a float? \u001b[39;00m\n\u001b[0;32m      2\u001b[0m c \u001b[38;5;241m=\u001b[39m \u001b[38;5;241m3.14\u001b[39m\n\u001b[1;32m----> 3\u001b[0m \u001b[38;5;28mprint\u001b[39m(\u001b[38;5;28;43mlen\u001b[39;49m\u001b[43m(\u001b[49m\u001b[43mc\u001b[49m\u001b[43m)\u001b[49m)   \n",
      "\u001b[1;31mTypeError\u001b[0m: object of type 'float' has no len()"
     ]
    }
   ],
   "source": [
    "# does len() return a value on a float? \n",
    "c = 3.14\n",
    "print(len(c))   \n"
   ]
  },
  {
   "cell_type": "markdown",
   "id": "b880bbd8-008c-4d1c-9b37-12a9c0b7ad40",
   "metadata": {},
   "source": [
    "No, returns error  because it's not sized too"
   ]
  },
  {
   "cell_type": "markdown",
   "id": "6a08ce84-55cb-4372-80c5-398ba05afe5d",
   "metadata": {},
   "source": [
    "5. Expressions to determine the number of digits in a non-negative integer."
   ]
  },
  {
   "cell_type": "code",
   "execution_count": 149,
   "id": "eb22b997-e023-4c88-b16b-0633a022548e",
   "metadata": {},
   "outputs": [
    {
     "name": "stdout",
     "output_type": "stream",
     "text": [
      "3\n"
     ]
    }
   ],
   "source": [
    "# using len()\n",
    "n = 142\n",
    "num_digits = len(str(n))\n",
    "print(num_digits)  \n"
   ]
  },
  {
   "cell_type": "markdown",
   "id": "56e13eac-0894-41fb-81ed-5b1065764d4e",
   "metadata": {},
   "source": [
    "We have to add a str in the code to run correctly becouse as we saw it above there is always error in running len() of an int since it not sized always"
   ]
  },
  {
   "cell_type": "code",
   "execution_count": 150,
   "id": "26482e55-3abf-40d4-9436-d857f6d6576c",
   "metadata": {},
   "outputs": [
    {
     "name": "stdout",
     "output_type": "stream",
     "text": [
      "3\n"
     ]
    }
   ],
   "source": [
    "# math.log()import math\n",
    "import math\n",
    "\n",
    "n = 142\n",
    "num_digits = math.floor(math.log10(n)) + 1\n",
    "\n",
    "print(num_digits)"
   ]
  },
  {
   "cell_type": "markdown",
   "id": "d819fbe9-6703-4546-bcb8-089f64afee0b",
   "metadata": {},
   "source": [
    "+1 is added to shift the digit count from \"position of highest digit\" to actual number of digits."
   ]
  }
 ],
 "metadata": {
  "kernelspec": {
   "display_name": "Python 3 (ipykernel)",
   "language": "python",
   "name": "python3"
  },
  "language_info": {
   "codemirror_mode": {
    "name": "ipython",
    "version": 3
   },
   "file_extension": ".py",
   "mimetype": "text/x-python",
   "name": "python",
   "nbconvert_exporter": "python",
   "pygments_lexer": "ipython3",
   "version": "3.13.5"
  }
 },
 "nbformat": 4,
 "nbformat_minor": 5
}
