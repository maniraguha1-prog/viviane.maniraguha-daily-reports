{
 "cells": [
  {
   "cell_type": "markdown",
   "id": "adb14d4b-a339-4a11-95c1-782bf52d9f27",
   "metadata": {},
   "source": [
    "## Function"
   ]
  },
  {
   "cell_type": "markdown",
   "id": "92694e4e-b827-437e-8fe1-9f561ea1bc24",
   "metadata": {},
   "source": [
    "input and print"
   ]
  },
  {
   "cell_type": "code",
   "execution_count": 22,
   "id": "2b20056e-ec7f-497c-8560-f26786750447",
   "metadata": {},
   "outputs": [
    {
     "name": "stdout",
     "output_type": "stream",
     "text": [
      "1 x 8 = 8\n",
      "2 x 8 = 16\n",
      "3 x 8 = 24\n",
      "4 x 8 = 32\n",
      "5 x 8 = 40\n",
      "6 x 8 = 48\n",
      "7 x 8 = 56\n",
      "8 x 8 = 64\n",
      "9 x 8 = 72\n",
      "10 x 8 = 80\n",
      "11 x 8 = 88\n",
      "12 x 8 = 96\n",
      "13 x 8 = 104\n",
      "14 x 8 = 112\n",
      "15 x 8 = 120\n",
      "16 x 8 = 128\n",
      "17 x 8 = 136\n",
      "18 x 8 = 144\n",
      "19 x 8 = 152\n",
      "20 x 8 = 160\n"
     ]
    }
   ],
   "source": [
    "def multiplication_table_8():\n",
    " \"\"\"\n",
    "    The purpose of this function is to display the first 20 values of the multiplication table for 8.\n",
    "    input: none\n",
    "    output: the multiplication tble for 8\n",
    "    \"\"\"   \n",
    "n =  1\n",
    "while n <= 20:\n",
    "        v = n * 8\n",
    "        print(n, 'x', 8, '=', v, sep=' ')\n",
    "        n = n + 1"
   ]
  },
  {
   "cell_type": "code",
   "execution_count": 23,
   "id": "cba362a6-6ddd-4267-a965-6c982197ef87",
   "metadata": {},
   "outputs": [
    {
     "ename": "NameError",
     "evalue": "name 'tableMultiplication' is not defined",
     "output_type": "error",
     "traceback": [
      "\u001b[1;31m---------------------------------------------------------------------------\u001b[0m",
      "\u001b[1;31mNameError\u001b[0m                                 Traceback (most recent call last)",
      "Cell \u001b[1;32mIn[23], line 1\u001b[0m\n\u001b[1;32m----> 1\u001b[0m \u001b[43mtableMultiplication\u001b[49m(\u001b[38;5;241m2\u001b[39m) \n\u001b[0;32m      2\u001b[0m \u001b[38;5;28mprint\u001b[39m(\u001b[38;5;124m\"\u001b[39m\u001b[38;5;124m============================\u001b[39m\u001b[38;5;130;01m\\n\u001b[39;00m\u001b[38;5;124m\"\u001b[39m)\n\u001b[0;32m      3\u001b[0m tableMultiplication(\u001b[38;5;241m8\u001b[39m) \n",
      "\u001b[1;31mNameError\u001b[0m: name 'tableMultiplication' is not defined"
     ]
    }
   ],
   "source": [
    "tableMultiplication(2) \n",
    "print(\"============================\\n\")\n",
    "tableMultiplication(8) \n",
    "print(\"============================\\n\")\n",
    "tableMultiplication(11) "
   ]
  },
  {
   "cell_type": "code",
   "execution_count": 24,
   "id": "ee903a74-bc5c-4ef8-a9d9-298ef0a516f9",
   "metadata": {},
   "outputs": [
    {
     "ename": "SyntaxError",
     "evalue": "invalid syntax (4127631553.py, line 1)",
     "output_type": "error",
     "traceback": [
      "\u001b[1;36m  Cell \u001b[1;32mIn[24], line 1\u001b[1;36m\u001b[0m\n\u001b[1;33m    ef multiplication_table(n):\u001b[0m\n\u001b[1;37m       ^\u001b[0m\n\u001b[1;31mSyntaxError\u001b[0m\u001b[1;31m:\u001b[0m invalid syntax\n"
     ]
    }
   ],
   "source": [
    "ef multiplication_table(n):\n",
    "    \"\"\"\n",
    "    The purpose of this function is to display the multiplication table for a given number `n`.\n",
    "    Input: n (int) - The number for which the multiplication table will be generated.\n",
    "    Output: The multiplication table for `n`.\n",
    "    \"\"\"\n",
    "    print(f\"Multiplication Table for {n}:\")\n",
    "    print(\"=\" * 25)\n",
    "    for i in range(1, 21):\n",
    "        result = i * n\n",
    "        print(f\"{i:2} x {n:2} = {result:3}\")\n",
    "    print(\"=\" * 25)\n",
    "\n",
    "# Example usage:\n",
    "multiplication_table(8)"
   ]
  },
  {
   "cell_type": "code",
   "execution_count": 17,
   "id": "348b551e-766d-48cc-ab15-a6d1c53984d1",
   "metadata": {},
   "outputs": [],
   "source": [
    "def square(x):\n",
    "    \"\"\"\n",
    "    This function calculates the square of a given number.\n",
    "    input: The number  x to be square\n",
    "    output: The square of the  input nuumber\n",
    "    \n",
    "    \"\"\"\n",
    "\n",
    "    return x**2\n",
    "    "
   ]
  },
  {
   "cell_type": "code",
   "execution_count": 18,
   "id": "a40c6c67-6f1d-46ba-8dcf-bace52920eff",
   "metadata": {},
   "outputs": [
    {
     "data": {
      "text/plain": [
       "16"
      ]
     },
     "execution_count": 18,
     "metadata": {},
     "output_type": "execute_result"
    }
   ],
   "source": [
    "square(4)"
   ]
  },
  {
   "cell_type": "code",
   "execution_count": 19,
   "id": "8f0eb1d4-d70a-4ef6-8e3e-4f902f382597",
   "metadata": {},
   "outputs": [],
   "source": [
    "def area_rectangle(length, width):\n",
    "    \"\"\"\n",
    "    The function calculates the area of a rectangle.\n",
    "    Input: Two parameters(length, width) of a rectangle.\n",
    "    Output: Area of a rectangle\n",
    "    \n",
    "    \"\"\"\n",
    "\n",
    "    area = length * width\n",
    "    print(\"The area of rectangle is:\", area)"
   ]
  },
  {
   "cell_type": "code",
   "execution_count": 20,
   "id": "44df6caa-ccd6-4f26-a090-1bf1245eac0e",
   "metadata": {},
   "outputs": [
    {
     "name": "stdout",
     "output_type": "stream",
     "text": [
      "The area of rectangle is: 16\n"
     ]
    }
   ],
   "source": [
    "area_rectangle(8, 2)"
   ]
  },
  {
   "cell_type": "code",
   "execution_count": null,
   "id": "cd5d2534-46bb-403f-b0d7-209f513362a8",
   "metadata": {},
   "outputs": [],
   "source": []
  }
 ],
 "metadata": {
  "kernelspec": {
   "display_name": "Python 3 (ipykernel)",
   "language": "python",
   "name": "python3"
  },
  "language_info": {
   "codemirror_mode": {
    "name": "ipython",
    "version": 3
   },
   "file_extension": ".py",
   "mimetype": "text/x-python",
   "name": "python",
   "nbconvert_exporter": "python",
   "pygments_lexer": "ipython3",
   "version": "3.13.5"
  }
 },
 "nbformat": 4,
 "nbformat_minor": 5
}
