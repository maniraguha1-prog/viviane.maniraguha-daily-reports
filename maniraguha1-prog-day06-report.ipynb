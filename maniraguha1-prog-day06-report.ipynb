{
 "cells": [
  {
   "cell_type": "markdown",
   "id": "6571e272-b953-4da5-ab90-3e02593c2182",
   "metadata": {},
   "source": [
    "## Flow control"
   ]
  },
  {
   "cell_type": "code",
   "execution_count": 1,
   "id": "c41f593e-978d-4545-b075-37704b10c022",
   "metadata": {},
   "outputs": [
    {
     "name": "stdout",
     "output_type": "stream",
     "text": [
      "27\n"
     ]
    }
   ],
   "source": [
    "a = 27\n",
    "print(a)"
   ]
  },
  {
   "cell_type": "code",
   "execution_count": 3,
   "id": "98b813d7-dbdd-4ac2-a3cb-59b63998012d",
   "metadata": {},
   "outputs": [
    {
     "name": "stdout",
     "output_type": "stream",
     "text": [
      "we do not have it\n"
     ]
    }
   ],
   "source": [
    "if (a > 29):\n",
    "    print(\"we have it\")\n",
    "else:\n",
    "    print(\"we do not have it\")\n",
    "    "
   ]
  },
  {
   "cell_type": "code",
   "execution_count": 4,
   "id": "ffbdcfdf-c281-44c3-8527-db53a12a5b47",
   "metadata": {},
   "outputs": [
    {
     "name": "stdout",
     "output_type": "stream",
     "text": [
      "x is zero\n"
     ]
    }
   ],
   "source": [
    "x = 0\n",
    "if x > 0:\n",
    "    print(\"x is postive\")\n",
    "elif x < 0:\n",
    "    print(\"x is negative\")\n",
    "else:\n",
    "    print(\"x is zero\")\n"
   ]
  },
  {
   "cell_type": "markdown",
   "id": "0678ee1f-d032-42b0-924e-0c745b50029a",
   "metadata": {},
   "source": [
    "## Nested clauses"
   ]
  },
  {
   "cell_type": "code",
   "execution_count": 12,
   "id": "17ea35d6-c29c-4943-a674-df2351f877eb",
   "metadata": {},
   "outputs": [
    {
     "name": "stdout",
     "output_type": "stream",
     "text": [
      "a is greater than b\n",
      "the dif is ....\n"
     ]
    }
   ],
   "source": [
    "a = 15\n",
    "b = 10\n",
    "\n",
    "if a > b:\n",
    "     print(\"a is greater than b\")\n",
    "     if(a-b >5):\n",
    "         print(\"the diff is ....\")\n",
    "     else:\n",
    "         print(\"the dif is ....\")\n",
    "else:\n",
    "    print(\"b is grater than a\")"
   ]
  },
  {
   "cell_type": "code",
   "execution_count": 18,
   "id": "92082aa9-8dfa-40a2-a51e-8eb50589bbe3",
   "metadata": {},
   "outputs": [
    {
     "name": "stdin",
     "output_type": "stream",
     "text": [
      "Enter a (not 0):  6\n",
      "Enter b:  -5\n",
      "Enter c:  0.5\n"
     ]
    },
    {
     "name": "stdout",
     "output_type": "stream",
     "text": [
      "Two real roots: 0.7171292729553325 and 0.1162040603780009\n"
     ]
    }
   ],
   "source": [
    "import math\n",
    "\n",
    "\n",
    "a = float(input(\"Enter a (not 0): \"))\n",
    "\n",
    "if a == 0:\n",
    "    print(\"a cannot be 0 in a quadratic equation.\")\n",
    "else:\n",
    "    b = float(input(\"Enter b: \"))\n",
    "    c = float(input(\"Enter c: \"))\n",
    "\n",
    "   \n",
    "    d = b**2 - 4*a*c\n",
    "\n",
    "\n",
    "    if d > 0:\n",
    "        x1 = (-b + math.sqrt(d)) / (2*a)\n",
    "        x2 = (-b - math.sqrt(d)) / (2*a)\n",
    "        print(\"Two real roots:\", x1, \"and\", x2)\n",
    "    elif d == 0:\n",
    "        x = -b / (2*a)\n",
    "        print(\"One real root:\", x)\n",
    "    else:\n",
    "        print(\"No real roots (discriminant < 0).\")\n",
    "\n",
    "    "
   ]
  },
  {
   "cell_type": "markdown",
   "id": "1b658d49-58e7-4027-b4a4-e4bab9260a1c",
   "metadata": {},
   "source": [
    "## loops"
   ]
  },
  {
   "cell_type": "code",
   "execution_count": 19,
   "id": "793f802d-52fe-4343-b320-d731e2750026",
   "metadata": {},
   "outputs": [
    {
     "name": "stdout",
     "output_type": "stream",
     "text": [
      "the value of x is  1\n",
      "the value of x is  2\n",
      "the value of x is  3\n",
      "the value of x is  4\n",
      "the value of x is  5\n",
      "the value of x is  6\n",
      "the value of x is  7\n",
      "the value of x is  8\n",
      "the value of x is  9\n"
     ]
    }
   ],
   "source": [
    "i = 1\n",
    "while(i < 10):\n",
    "    print(\"the value of x is \",i)\n",
    "    i = i + 1"
   ]
  },
  {
   "cell_type": "code",
   "execution_count": 21,
   "id": "5d0c3473-ecaa-43d2-8854-48d084dac354",
   "metadata": {},
   "outputs": [
    {
     "name": "stdout",
     "output_type": "stream",
     "text": [
      "0\n",
      "1\n",
      "2\n",
      "3\n",
      "4\n",
      "5\n",
      "6\n",
      "7\n",
      "8\n",
      "9\n"
     ]
    }
   ],
   "source": [
    "n = 10\n",
    "for i in range(n):\n",
    "    print(i)"
   ]
  },
  {
   "cell_type": "code",
   "execution_count": 23,
   "id": "9d02932e-5ebb-4166-aca5-d3d392672464",
   "metadata": {},
   "outputs": [
    {
     "name": "stdout",
     "output_type": "stream",
     "text": [
      "Try again\n",
      "we found it\n",
      "Try again\n",
      "Try again\n"
     ]
    }
   ],
   "source": [
    "list_fr = [3, 5, 'hello', 98]\n",
    "for i in list_fr:\n",
    "     if i == 5:\n",
    "         print(\"we found it\")\n",
    "     else:\n",
    "         print(\"Try again\")"
   ]
  },
  {
   "cell_type": "code",
   "execution_count": 24,
   "id": "fa3e6845-ff9c-405c-9b3a-afd3cdf91ded",
   "metadata": {},
   "outputs": [
    {
     "name": "stdout",
     "output_type": "stream",
     "text": [
      "The letter t is a consonant\n",
      "The letter h is a consonant\n",
      "The letter i is a  vowel\n",
      "The letter s is a consonant\n",
      "This is likely a space\n",
      "The letter i is a  vowel\n",
      "The letter s is a consonant\n",
      "This is likely a space\n",
      "The letter w is a consonant\n",
      "The letter h is a consonant\n",
      "The letter a is a  vowel\n",
      "The letter t is a consonant\n",
      "This is likely a space\n",
      "The letter i is a  vowel\n",
      "This is likely a space\n",
      "The letter m is a consonant\n",
      "The letter e is a  vowel\n",
      "The letter a is a  vowel\n",
      "The letter n is a consonant\n",
      "The letter . is a consonant\n"
     ]
    }
   ],
   "source": [
    "sentence = \"this is what i mean.\"\n",
    "for letter in sentence:\n",
    "    if letter in \"AEIOUaeiou\":\n",
    "        print(\"The letter\", letter, \"is a  vowel\")\n",
    "    elif letter == \" \":\n",
    "        print(\"This is likely a space\")\n",
    "    else:\n",
    "        print(\"The letter\", letter, \"is a consonant\")"
   ]
  }
 ],
 "metadata": {
  "kernelspec": {
   "display_name": "Python 3 (ipykernel)",
   "language": "python",
   "name": "python3"
  },
  "language_info": {
   "codemirror_mode": {
    "name": "ipython",
    "version": 3
   },
   "file_extension": ".py",
   "mimetype": "text/x-python",
   "name": "python",
   "nbconvert_exporter": "python",
   "pygments_lexer": "ipython3",
   "version": "3.13.5"
  }
 },
 "nbformat": 4,
 "nbformat_minor": 5
}
